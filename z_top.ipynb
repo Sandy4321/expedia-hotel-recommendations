{
 "cells": [
  {
   "cell_type": "code",
   "execution_count": 1,
   "metadata": {
    "collapsed": true
   },
   "outputs": [],
   "source": [
    "# Qiwei Li\n",
    "# https://www.linkedin.com/in/liqiwei\n",
    "%matplotlib inline\n",
    "\n",
    "from collections import defaultdict\n",
    "import pickle\n",
    "import operator"
   ]
  },
  {
   "cell_type": "code",
   "execution_count": 2,
   "metadata": {
    "collapsed": true
   },
   "outputs": [],
   "source": [
    "top = defaultdict(int)"
   ]
  },
  {
   "cell_type": "code",
   "execution_count": 3,
   "metadata": {
    "collapsed": false
   },
   "outputs": [
    {
     "name": "stdout",
     "output_type": "stream",
     "text": [
      "Opening train...\n",
      "Read 5000000 lines...\n",
      "Read 10000000 lines...\n",
      "Read 15000000 lines...\n",
      "Read 20000000 lines...\n",
      "Read 25000000 lines...\n",
      "Read 30000000 lines...\n",
      "Read 35000000 lines...\n",
      "Closing train...\n"
     ]
    }
   ],
   "source": [
    "print('Opening train...')\n",
    "f = open(\"data/train.csv\", \"r\")\n",
    "f.readline()\n",
    "total = 0\n",
    "    \n",
    "while 1:\n",
    "    line = f.readline().strip()\n",
    "    total += 1\n",
    "        \n",
    "    if total % 5000000 == 0:\n",
    "        print('Read {} lines...'.format(total))\n",
    "    if line == '':\n",
    "         break\n",
    "\n",
    "    arr = line.split(\",\")\n",
    "    hotel_country = arr[21]\n",
    "    hotel_market = arr[22]\n",
    "    srch_destination_id = arr[16]\n",
    "    book_year = arr[0][:4]\n",
    "    is_booking = arr[18]\n",
    "    \n",
    "    if book_year == '2013':\n",
    "        top[(hotel_country, hotel_market, srch_destination_id)] += 1\n",
    "        \n",
    "print('Closing train...')\n",
    "f.close()"
   ]
  },
  {
   "cell_type": "code",
   "execution_count": 4,
   "metadata": {
    "collapsed": false
   },
   "outputs": [],
   "source": [
    "sorted_top = sorted(top.items(), key=operator.itemgetter(1), reverse=True)"
   ]
  },
  {
   "cell_type": "code",
   "execution_count": 5,
   "metadata": {
    "collapsed": false
   },
   "outputs": [
    {
     "name": "stdout",
     "output_type": "stream",
     "text": [
      "(('50', '628', '8250'), 395714)\n",
      "(('50', '675', '8267'), 254499)\n",
      "(('8', '110', '8791'), 178596)\n",
      "(('70', '19', '8253'), 149708)\n",
      "(('50', '682', '8268'), 145494)\n",
      "(('204', '27', '8745'), 120912)\n",
      "(('50', '628', '12206'), 111036)\n",
      "(('50', '1230', '8279'), 109140)\n",
      "(('50', '701', '8260'), 99489)\n",
      "(('163', '1503', '11439'), 99388)\n",
      "(('50', '365', '8254'), 84400)\n",
      "(('50', '675', '7635'), 83554)\n",
      "(('105', '29', '8746'), 82606)\n",
      "(('50', '212', '669'), 80741)\n",
      "(('182', '46', '8220'), 79188)\n",
      "(('50', '368', '8278'), 74590)\n",
      "(('48', '153', '468'), 72763)\n",
      "(('50', '637', '8230'), 70509)\n",
      "(('8', '126', '11938'), 69987)\n",
      "(('77', '2', '8788'), 69467)\n",
      "(('171', '61', '8242'), 69049)\n",
      "(('168', '1242', '8819'), 62590)\n",
      "(('50', '191', '8291'), 60081)\n",
      "(('50', '675', '12233'), 55257)\n",
      "(('50', '366', '12175'), 53905)\n",
      "(('126', '232', '8282'), 53171)\n",
      "(('50', '699', '11353'), 53003)\n",
      "(('8', '118', '8824'), 50008)\n",
      "(('106', '107', '8747'), 49637)\n",
      "(('50', '212', '8859'), 48398)\n",
      "(('50', '701', '12227'), 47178)\n",
      "(('8', '1532', '8810'), 46470)\n",
      "(('50', '213', '8855'), 46206)\n",
      "(('68', '275', '8213'), 46047)\n",
      "(('8', '126', '5405'), 45522)\n",
      "(('50', '690', '8223'), 45042)\n",
      "(('50', '411', '8266'), 43461)\n",
      "(('50', '701', '44045'), 41714)\n",
      "(('50', '663', '8281'), 41478)\n",
      "(('144', '4', '8739'), 39046)\n",
      "(('22', '245', '8245'), 38171)\n",
      "(('198', '397', '26022'), 37745)\n",
      "(('198', '399', '8288'), 37599)\n",
      "(('198', '750', '14875'), 37381)\n",
      "(('130', '91', '8822'), 36955)\n",
      "(('105', '35', '8785'), 35924)\n",
      "(('5', '1701', '11815'), 34597)\n",
      "(('51', '1509', '12257'), 33443)\n",
      "(('47', '1508', '8864'), 33158)\n",
      "(('169', '28', '8808'), 32239)\n"
     ]
    }
   ],
   "source": [
    "for i in range(50):\n",
    "    print sorted_top[i]"
   ]
  },
  {
   "cell_type": "code",
   "execution_count": 6,
   "metadata": {
    "collapsed": true
   },
   "outputs": [],
   "source": [
    "pickle.dump(sorted_top, open(\"data/sorted_top.p\", \"wb\"))"
   ]
  }
 ],
 "metadata": {
  "kernelspec": {
   "display_name": "Python 2",
   "language": "python",
   "name": "python2"
  },
  "language_info": {
   "codemirror_mode": {
    "name": "ipython",
    "version": 2
   },
   "file_extension": ".py",
   "mimetype": "text/x-python",
   "name": "python",
   "nbconvert_exporter": "python",
   "pygments_lexer": "ipython2",
   "version": "2.7.11"
  }
 },
 "nbformat": 4,
 "nbformat_minor": 0
}
