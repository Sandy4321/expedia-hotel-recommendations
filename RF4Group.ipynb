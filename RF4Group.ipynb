{
 "cells": [
  {
   "cell_type": "code",
   "execution_count": 1,
   "metadata": {
    "collapsed": false
   },
   "outputs": [
    {
     "name": "stdout",
     "output_type": "stream",
     "text": [
      "Preparing arrays...\n"
     ]
    }
   ],
   "source": [
    "from datetime import datetime\n",
    "from heapq import nlargest\n",
    "from operator import itemgetter\n",
    "from collections import defaultdict\n",
    "from sys import stdout\n",
    "print('Preparing arrays...')"
   ]
  },
  {
   "cell_type": "code",
   "execution_count": 2,
   "metadata": {
    "collapsed": true
   },
   "outputs": [],
   "source": [
    "###### finding most popular 50\n",
    "f = open(\"train.csv\", \"r\")\n",
    "f.readline()\n",
    "most_hotels_cntr_hm_sdi = defaultdict(int)\n",
    "total = 0"
   ]
  },
  {
   "cell_type": "code",
   "execution_count": 3,
   "metadata": {
    "collapsed": false
   },
   "outputs": [
    {
     "name": "stdout",
     "output_type": "stream",
     "text": [
      "Read 10000000 lines...\n",
      "Read 20000000 lines...\n",
      "Read 30000000 lines...\n",
      "118.024655104\n"
     ]
    }
   ],
   "source": [
    "import time\n",
    "\n",
    "start = time.time()\n",
    "\n",
    "while 1:\n",
    "    line = f.readline().strip()\n",
    "    total += 1\n",
    "\n",
    "    if total % 10000000 == 0:\n",
    "        print('Read {} lines...'.format(total))\n",
    "\n",
    "    if line == '':\n",
    "        break\n",
    "\n",
    "    arr = line.split(\",\")\n",
    "    srch_destination_id = arr[16]\n",
    "    hotel_country = arr[21]\n",
    "    hotel_market = arr[22]\n",
    "\n",
    "    if srch_destination_id != '' and hotel_country != '' and hotel_market != '':\n",
    "        most_hotels_cntr_hm_sdi[(hotel_country,hotel_market,srch_destination_id)] += 1\n",
    "\n",
    "f.close()\n",
    "end = time.time()\n",
    "print(end - start)"
   ]
  },
  {
   "cell_type": "code",
   "execution_count": 4,
   "metadata": {
    "collapsed": true
   },
   "outputs": [],
   "source": [
    "topitems = nlargest(50, most_hotels_cntr_hm_sdi.items(), key=itemgetter(1))"
   ]
  },
  {
   "cell_type": "code",
   "execution_count": 169,
   "metadata": {
    "collapsed": false
   },
   "outputs": [
    {
     "data": {
      "text/plain": [
       "[(('50', '628', '8250'), 1331916),\n",
       " (('50', '675', '8267'), 921405),\n",
       " (('8', '110', '8791'), 619520),\n",
       " (('50', '682', '8268'), 529007),\n",
       " (('70', '19', '8253'), 497639),\n",
       " (('204', '27', '8745'), 421500),\n",
       " (('50', '1230', '8279'), 391378),\n",
       " (('163', '1503', '11439'), 367301),\n",
       " (('50', '701', '8260'), 344878),\n",
       " (('50', '628', '12206'), 338597),\n",
       " (('50', '365', '8254'), 299278),\n",
       " (('105', '29', '8746'), 283610),\n",
       " (('50', '368', '8278'), 283551),\n",
       " (('50', '675', '7635'), 274415),\n",
       " (('182', '46', '8220'), 270119),\n",
       " (('8', '126', '11938'), 249822),\n",
       " (('50', '637', '8230'), 248414),\n",
       " (('48', '153', '468'), 243249),\n",
       " (('77', '2', '8788'), 230010),\n",
       " (('171', '61', '8242'), 226409),\n",
       " (('50', '191', '8291'), 216667),\n",
       " (('168', '1242', '8819'), 215130),\n",
       " (('50', '212', '669'), 214944),\n",
       " (('106', '107', '8747'), 194981),\n",
       " (('126', '232', '8282'), 186140),\n",
       " (('50', '699', '11353'), 183748),\n",
       " (('50', '366', '12175'), 180274),\n",
       " (('50', '212', '8859'), 168853),\n",
       " (('50', '701', '12227'), 165862),\n",
       " (('8', '1532', '8810'), 165280),\n",
       " (('8', '118', '8824'), 157595),\n",
       " (('50', '675', '12233'), 157475),\n",
       " (('130', '91', '8822'), 156681),\n",
       " (('68', '275', '8213'), 156025),\n",
       " (('50', '411', '8266'), 152636),\n",
       " (('8', '126', '5405'), 150789),\n",
       " (('50', '213', '8855'), 150576),\n",
       " (('50', '690', '8223'), 146835),\n",
       " (('50', '663', '8281'), 146212),\n",
       " (('22', '245', '8245'), 142597),\n",
       " (('5', '1701', '11815'), 134033),\n",
       " (('182', '83', '18569'), 133268),\n",
       " (('144', '4', '8739'), 131970),\n",
       " (('105', '35', '8785'), 127234),\n",
       " (('198', '399', '8288'), 121839),\n",
       " (('50', '701', '44045'), 117552),\n",
       " (('51', '1509', '12257'), 110881),\n",
       " (('169', '28', '8808'), 108681),\n",
       " (('77', '20', '8255'), 107140),\n",
       " (('47', '1508', '8864'), 106701)]"
      ]
     },
     "execution_count": 169,
     "metadata": {},
     "output_type": "execute_result"
    }
   ],
   "source": [
    "topitems"
   ]
  },
  {
   "cell_type": "code",
   "execution_count": 5,
   "metadata": {
    "collapsed": true
   },
   "outputs": [],
   "source": [
    "topitems_dict = defaultdict(int)"
   ]
  },
  {
   "cell_type": "code",
   "execution_count": 6,
   "metadata": {
    "collapsed": true
   },
   "outputs": [],
   "source": [
    "for k,v in topitems:\n",
    "    topitems_dict[k] = v"
   ]
  },
  {
   "cell_type": "code",
   "execution_count": 7,
   "metadata": {
    "collapsed": true
   },
   "outputs": [],
   "source": [
    "############ Features transformation & Construction #############\n",
    "f = open(\"train.csv\", \"r\")\n",
    "f.readline()\n",
    "feature1_cntr_hm_sdi = defaultdict(lambda: defaultdict(list)) # feature_contstrunction\n",
    "total = 0\n",
    "missline = 0"
   ]
  },
  {
   "cell_type": "code",
   "execution_count": 8,
   "metadata": {
    "collapsed": false
   },
   "outputs": [
    {
     "name": "stdout",
     "output_type": "stream",
     "text": [
      "Read 10000000 lines...\n",
      "Read 20000000 lines...\n",
      "Read 30000000 lines...\n",
      "655.153216124\n"
     ]
    }
   ],
   "source": [
    "import time\n",
    "\n",
    "start = time.time()\n",
    "\n",
    "while 1:\n",
    "    line = f.readline().strip()\n",
    "    total += 1\n",
    "\n",
    "    if total % 10000000 == 0:\n",
    "        print('Read {} lines...'.format(total))\n",
    "\n",
    "    if line == '':\n",
    "        break\n",
    "    #if total > 1000: break\n",
    "    \n",
    "    arr = line.split(\",\")\n",
    "    srch_destination_id = arr[16]\n",
    "    hotel_country = arr[21]\n",
    "    hotel_market = arr[22]\n",
    "\n",
    "    if srch_destination_id != '' and hotel_country != '' and hotel_market != '' and ((hotel_country,hotel_market,srch_destination_id) in topitems_dict):\n",
    "        try:\n",
    "            search_time_DT = datetime.strptime(arr[0], '%Y-%m-%d %H:%M:%S')\n",
    "            arr[0] = search_time_DT.hour      #srch_time_hour\n",
    "            arr[1] = search_time_DT.weekday() #srch_time_weekday\n",
    "            arr[20] = search_time_DT.year     #srch_time_year\n",
    "            #arr[2] = int(arr[2])             #posa_continent\n",
    "            \n",
    "            arr[6] = float(arr[6]) #orig_dest_distance\n",
    "        \n",
    "            #arr[8] = int(arr[8]) #is_mobile\n",
    "            #arr[9] = int(arr[9]) #is_package\n",
    "            #arr[10] = int(arr[10]) #channel\n",
    "            \n",
    "            arr[21] = int(arr[11].split('-')[1])\n",
    "            arr[22] = int(arr[12].split('-')[1])\n",
    "            checkInDateDT = datetime.strptime(arr[11], \"%Y-%m-%d\")\n",
    "            checkOutDateDT = datetime.strptime(arr[12], \"%Y-%m-%d\") \n",
    "            arr[11] = checkInDateDT.timetuple().tm_yday + 1  #srch_ci_day\n",
    "            arr[12] = checkOutDateDT.timetuple().tm_yday+ 1 #srch_co_day\n",
    "            \n",
    "            arr[13] = int(arr[13]) #srch_adult_count\n",
    "            arr[14] = int(arr[14]) #srch_child_count\n",
    "            arr[15] = int(arr[15]) #srch_room_count\n",
    "            \n",
    "            arr[16] = arr[12] - arr[11] #duration\n",
    "            #arr[17] = int(arr[17]) #srch_dest_type_id\n",
    "            arr[18] = int(arr[18])  #is_booking should be weighted\n",
    "            arr[19] = int(arr[19])  #hotel_cluster\n",
    "        except:\n",
    "            missline += 1\n",
    "            continue\n",
    "        colNames = ['hour','dow','posa','','','','dist','','mobile','package','channel','ci_day','co_day',\n",
    "                    'adults','children','room','stay','type','booking','cluster','year','ci_month','co_month']\n",
    "        colindex = [0,1,2,6,8,9,10,11,12,13,14,15,16,17,18,19,20,21,22]\n",
    "        for i in colindex:\n",
    "            feature1_cntr_hm_sdi[(hotel_country,hotel_market,srch_destination_id)][colNames[i]].append(arr[i])\n",
    "\n",
    "f.close()\n",
    "end = time.time()\n",
    "print(end - start)"
   ]
  },
  {
   "cell_type": "code",
   "execution_count": 102,
   "metadata": {
    "collapsed": false
   },
   "outputs": [
    {
     "name": "stdout",
     "output_type": "stream",
     "text": [
      "['ci_day', 'dist', 'adults', 'hour', 'package', 'mobile', 'ci_month', 'co_day', 'children', 'posa', 'cluster', 'co_month', 'booking', 'year', 'stay', 'type', 'dow', 'channel', 'room']\n"
     ]
    }
   ],
   "source": [
    "print feature1_cntr_hm_sdi.items()[0][1].keys()"
   ]
  },
  {
   "cell_type": "code",
   "execution_count": 99,
   "metadata": {
    "collapsed": false
   },
   "outputs": [],
   "source": [
    "########## check -in & -out info. processing   ##########\n",
    "import collections as cl\n",
    "check_InOut_time = defaultdict(lambda: defaultdict(list))\n",
    "check_InOut_PopTable = defaultdict(lambda: defaultdict(lambda: defaultdict(float)))"
   ]
  },
  {
   "cell_type": "code",
   "execution_count": 100,
   "metadata": {
    "collapsed": false,
    "scrolled": true
   },
   "outputs": [
    {
     "name": "stdout",
     "output_type": "stream",
     "text": [
      "12.4035558701\n"
     ]
    }
   ],
   "source": [
    "import time\n",
    "\n",
    "start = time.time()\n",
    "#length = len(feature1_cntr_hm_sdi)\n",
    "for k,v in feature1_cntr_hm_sdi.iteritems():\n",
    "    check_InOut_time[k]['ci_day'] = [day for day in v['ci_day']] #k = country_market_dest\n",
    "    check_InOut_time[k]['co_day'] = [day for day in v['co_day']]\n",
    "    temp_ci_day = check_InOut_time[k]['ci_day']\n",
    "    temp_co_day = check_InOut_time[k]['co_day']\n",
    "    counter_ci_day = cl.Counter(temp_ci_day)\n",
    "    counter_co_day = cl.Counter(temp_co_day)\n",
    "\n",
    "    ####### fit ci day ########\n",
    "    xci= np.array(counter_ci_day.keys())\n",
    "    yci = np.array(counter_ci_day.values())\n",
    "    parameter = np.polyfit(xci,yci,12)\n",
    "    p12ci = np.poly1d(parameter)\n",
    "    yci_new = p12ci(xci)\n",
    "    for i in range(len(xci)):\n",
    "        check_InOut_PopTable[k]['ci_pop'][xci[i]] = yci_new[i]\n",
    "    check_InOut_time[k]['ci_pop'] = [check_InOut_PopTable[k]['ci_pop'][day] for day in v['ci_day']]\n",
    "    #plt.plot(xci,yci_new,'b-',xci,yci)\n",
    "    #plt.show()\n",
    "\n",
    "    ####### fit co day ########\n",
    "    xco= np.array(counter_co_day.keys())\n",
    "    yco = np.array(counter_co_day.values())\n",
    "    parameter = np.polyfit(xco,yco,12)\n",
    "    p12co = np.poly1d(parameter)\n",
    "    yco_new = p12co(xco)\n",
    "    for i in range(len(xco)):\n",
    "        check_InOut_PopTable[k]['co_pop'][xco[i]] = yco_new[i]\n",
    "    check_InOut_time[k]['co_pop'] = [check_InOut_PopTable[k]['co_pop'][day] for day in v['co_day']]\n",
    "    #plt.plot(xco,yco_new,'b-',xco,yco)\n",
    "    #plt.show()\n",
    "    \n",
    "end = time.time()\n",
    "print (end - start)"
   ]
  },
  {
   "cell_type": "code",
   "execution_count": 124,
   "metadata": {
    "collapsed": false
   },
   "outputs": [],
   "source": [
    "for k,v in feature1_cntr_hm_sdi.iteritems():\n",
    "    v['ci_pop'] = check_InOut_time[k]['ci_pop']"
   ]
  },
  {
   "cell_type": "code",
   "execution_count": 134,
   "metadata": {
    "collapsed": true
   },
   "outputs": [],
   "source": [
    "for k,v in feature1_cntr_hm_sdi.iteritems():\n",
    "    v['co_pop'] = check_InOut_time[k]['co_pop']"
   ]
  },
  {
   "cell_type": "code",
   "execution_count": 134,
   "metadata": {
    "collapsed": true
   },
   "outputs": [],
   "source": [
    "for k,v in feature1_cntr_hm_sdi.iteritems():\n",
    "    v['co_pop'] = check_InOut_time[k]['co_pop']"
   ]
  },
  {
   "cell_type": "code",
   "execution_count": 138,
   "metadata": {
    "collapsed": false
   },
   "outputs": [
    {
     "name": "stdout",
     "output_type": "stream",
     "text": [
      "['ci_day', 'dist', 'adults', 'hour', 'package', 'mobile', 'ci_month', 'co_day', 'children', 'ci_pop', 'posa', 'cluster', 'co_pop', 'co_month', 'booking', 'year', 'stay', 'type', 'dow', 'channel', 'room']\n"
     ]
    }
   ],
   "source": [
    "print feature1_cntr_hm_sdi.items()[0][1].keys()\n",
    "    "
   ]
  },
  {
   "cell_type": "code",
   "execution_count": 139,
   "metadata": {
    "collapsed": true
   },
   "outputs": [],
   "source": [
    "import pandas as pd"
   ]
  },
  {
   "cell_type": "code",
   "execution_count": 159,
   "metadata": {
    "collapsed": false
   },
   "outputs": [
    {
     "name": "stdout",
     "output_type": "stream",
     "text": [
      "['dist', 'adults', 'hour', 'package', 'mobile', 'children', 'ci_pop', 'posa', 'cluster', 'co_pop', 'booking', 'year', 'stay', 'type', 'dow', 'channel', 'room']\n"
     ]
    }
   ],
   "source": [
    "RFlist = feature1_cntr_hm_sdi.items()[0][1].keys()\n",
    "for tag in ['ci_day', 'co_day', 'ci_month', 'co_month']:\n",
    "    RFlist.remove(tag)\n",
    "print RFlist"
   ]
  },
  {
   "cell_type": "code",
   "execution_count": 161,
   "metadata": {
    "collapsed": true
   },
   "outputs": [],
   "source": [
    "from sklearn import cross_validation\n",
    "from sklearn.ensemble import RandomForestClassifier"
   ]
  },
  {
   "cell_type": "code",
   "execution_count": 172,
   "metadata": {
    "collapsed": true
   },
   "outputs": [],
   "source": [
    "for k, v in feature1_cntr_hm_sdi.iteritems():\n",
    "    df = pd.DataFrame(v)\n",
    "    filename = k[0]+'-'+k[1]+'-'+k[2]+'.csv'\n",
    "    df.to_csv('./CSV/'+filename)"
   ]
  },
  {
   "cell_type": "code",
   "execution_count": 180,
   "metadata": {
    "collapsed": true
   },
   "outputs": [],
   "source": [
    "df = pd.DataFrame(feature1_cntr_hm_sdi.items()[0][1])"
   ]
  },
  {
   "cell_type": "code",
   "execution_count": 181,
   "metadata": {
    "collapsed": true
   },
   "outputs": [],
   "source": [
    "predictors = [tag for tag in df.columns if tag in RFlist]"
   ]
  },
  {
   "cell_type": "code",
   "execution_count": 182,
   "metadata": {
    "collapsed": false
   },
   "outputs": [],
   "source": [
    "clf = RandomForestClassifier(n_estimators=100)"
   ]
  },
  {
   "cell_type": "code",
   "execution_count": 183,
   "metadata": {
    "collapsed": true
   },
   "outputs": [],
   "source": [
    "train = df[df['year']==2013]\n",
    "test = df[df['year']==2014]"
   ]
  },
  {
   "cell_type": "code",
   "execution_count": 184,
   "metadata": {
    "collapsed": false
   },
   "outputs": [
    {
     "data": {
      "text/plain": [
       "RandomForestClassifier(bootstrap=True, class_weight=None, criterion='gini',\n",
       "            max_depth=None, max_features='auto', max_leaf_nodes=None,\n",
       "            min_samples_leaf=1, min_samples_split=2,\n",
       "            min_weight_fraction_leaf=0.0, n_estimators=100, n_jobs=1,\n",
       "            oob_score=False, random_state=None, verbose=0,\n",
       "            warm_start=False)"
      ]
     },
     "execution_count": 184,
     "metadata": {},
     "output_type": "execute_result"
    }
   ],
   "source": [
    "clf.fit(train[predictors],train['cluster'])"
   ]
  },
  {
   "cell_type": "code",
   "execution_count": 185,
   "metadata": {
    "collapsed": true
   },
   "outputs": [],
   "source": [
    "probas = clf.predict(test[predictors])"
   ]
  },
  {
   "cell_type": "code",
   "execution_count": 195,
   "metadata": {
    "collapsed": false
   },
   "outputs": [
    {
     "data": {
      "text/plain": [
       "(68108, 43)"
      ]
     },
     "execution_count": 195,
     "metadata": {},
     "output_type": "execute_result"
    }
   ],
   "source": [
    "len(probas),len(probas[probas==8])"
   ]
  },
  {
   "cell_type": "code",
   "execution_count": 196,
   "metadata": {
    "collapsed": false
   },
   "outputs": [
    {
     "data": {
      "text/plain": [
       "115"
      ]
     },
     "execution_count": 196,
     "metadata": {},
     "output_type": "execute_result"
    }
   ],
   "source": [
    "len(test[test['cluster']==8]['cluster'])"
   ]
  },
  {
   "cell_type": "code",
   "execution_count": 175,
   "metadata": {
    "collapsed": false
   },
   "outputs": [
    {
     "name": "stderr",
     "output_type": "stream",
     "text": [
      "/Users/BingxiLi/anaconda/lib/python2.7/site-packages/sklearn/cross_validation.py:516: Warning: The least populated class in y has only 1 members, which is too few. The minimum number of labels for any class cannot be less than n_folds=3.\n",
      "  % (min_labels, self.n_folds)), Warning)\n"
     ]
    }
   ],
   "source": [
    "scores = cross_validation.cross_val_score(clf, df[predictors], df['cluster'], cv=3)"
   ]
  },
  {
   "cell_type": "code",
   "execution_count": 176,
   "metadata": {
    "collapsed": false
   },
   "outputs": [
    {
     "data": {
      "text/plain": [
       "array([ 0.98809998,  0.9874651 ,  0.98956908])"
      ]
     },
     "execution_count": 176,
     "metadata": {},
     "output_type": "execute_result"
    }
   ],
   "source": [
    "scores"
   ]
  },
  {
   "cell_type": "code",
   "execution_count": 154,
   "metadata": {
    "collapsed": false
   },
   "outputs": [],
   "source": [
    "name = feature1_cntr_hm_sdi.items()[0][0]\n",
    "check_InOut_time[]"
   ]
  },
  {
   "cell_type": "code",
   "execution_count": 131,
   "metadata": {
    "collapsed": false
   },
   "outputs": [
    {
     "data": {
      "text/plain": [
       "('198', '399', '8288')"
      ]
     },
     "execution_count": 131,
     "metadata": {},
     "output_type": "execute_result"
    }
   ],
   "source": [
    "day0 = feature1_cntr_hm_sdi.items()[0][1]['ci_day']\n",
    "pop0 = feature1_cntr_hm_sdi.items()[0][1]['ci_pop']\n",
    "feature1_cntr_hm_sdi.items()[0][0]"
   ]
  },
  {
   "cell_type": "code",
   "execution_count": 133,
   "metadata": {
    "collapsed": false
   },
   "outputs": [
    {
     "name": "stdout",
     "output_type": "stream",
     "text": [
      "[224, 306, 188, 199, 199, 67, 67, 149, 301, 301] 98447\n",
      "[512.68623274549702, 243.41557464388401, 423.55517574696626, 476.58582839790876, 476.58582839790876, 141.25678378084575, 141.25678378084575, 254.61279389342263, 243.01767970810411, 243.01767970810411] 98447\n"
     ]
    }
   ],
   "source": [
    "print day0[0:10], len(day0)\n",
    "print pop0[0:10], len(pop0)"
   ]
  },
  {
   "cell_type": "code",
   "execution_count": 110,
   "metadata": {
    "collapsed": false
   },
   "outputs": [
    {
     "name": "stdout",
     "output_type": "stream",
     "text": [
      "('198', '399', '8288')\n",
      "98447\n"
     ]
    }
   ],
   "source": [
    "print feature1_cntr_hm_sdi.items()[0][0]\n",
    "print len(feature1_cntr_hm_sdi.items()[0][1]['ci_day'])\n",
    "\n"
   ]
  },
  {
   "cell_type": "code",
   "execution_count": 115,
   "metadata": {
    "collapsed": false
   },
   "outputs": [],
   "source": [
    "a = defaultdict(lambda: defaultdict(int))\n",
    "a['1']['2'] = 1"
   ]
  },
  {
   "cell_type": "code",
   "execution_count": 121,
   "metadata": {
    "collapsed": false
   },
   "outputs": [],
   "source": [
    "for k,v in a.iteritems():\n",
    "    v['3']=2\n",
    "    "
   ]
  },
  {
   "cell_type": "code",
   "execution_count": 122,
   "metadata": {
    "collapsed": false
   },
   "outputs": [
    {
     "data": {
      "text/plain": [
       "defaultdict(<function __main__.<lambda>>,\n",
       "            {'1': defaultdict(int, {'2': 1, '3': 2})})"
      ]
     },
     "execution_count": 122,
     "metadata": {},
     "output_type": "execute_result"
    }
   ],
   "source": [
    "a"
   ]
  },
  {
   "cell_type": "code",
   "execution_count": null,
   "metadata": {
    "collapsed": true
   },
   "outputs": [],
   "source": []
  },
  {
   "cell_type": "code",
   "execution_count": null,
   "metadata": {
    "collapsed": true
   },
   "outputs": [],
   "source": []
  }
 ],
 "metadata": {
  "kernelspec": {
   "display_name": "Python 2",
   "language": "python",
   "name": "python2"
  },
  "language_info": {
   "codemirror_mode": {
    "name": "ipython",
    "version": 2
   },
   "file_extension": ".py",
   "mimetype": "text/x-python",
   "name": "python",
   "nbconvert_exporter": "python",
   "pygments_lexer": "ipython2",
   "version": "2.7.11"
  }
 },
 "nbformat": 4,
 "nbformat_minor": 0
}
