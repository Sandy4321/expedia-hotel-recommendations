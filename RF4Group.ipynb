{
 "cells": [
  {
   "cell_type": "code",
   "execution_count": null,
   "metadata": {
    "collapsed": true
   },
   "outputs": [],
   "source": [
    "from datetime import datetime\n",
    "from heapq import nlargest\n",
    "from operator import itemgetter\n",
    "from collections import defaultdict\n",
    "from sys import stdout\n",
    "print('Preparing arrays...')"
   ]
  },
  {
   "cell_type": "code",
   "execution_count": null,
   "metadata": {
    "collapsed": true
   },
   "outputs": [],
   "source": [
    "###### finding most popular 50\n",
    "f = open(\"train.csv\", \"r\")\n",
    "f.readline()\n",
    "most_hotels_cntr_hm_sdi = defaultdict(int)\n",
    "total = 0"
   ]
  },
  {
   "cell_type": "code",
   "execution_count": null,
   "metadata": {
    "collapsed": true
   },
   "outputs": [],
   "source": [
    "import time\n",
    "\n",
    "start = time.time()\n",
    "\n",
    "while 1:\n",
    "    line = f.readline().strip()\n",
    "    total += 1\n",
    "\n",
    "    if total % 10000000 == 0:\n",
    "        print('Read {} lines...'.format(total))\n",
    "\n",
    "    if line == '':\n",
    "        break\n",
    "\n",
    "    arr = line.split(\",\")\n",
    "    srch_destination_id = arr[16]\n",
    "    hotel_country = arr[21]\n",
    "    hotel_market = arr[22]\n",
    "\n",
    "    if srch_destination_id != '' and hotel_country != '' and hotel_market != '':\n",
    "        most_hotels_cntr_hm_sdi[(hotel_country,hotel_market,srch_destination_id)] += 1\n",
    "\n",
    "f.close()\n",
    "end = time.time()\n",
    "print(end - start)"
   ]
  },
  {
   "cell_type": "code",
   "execution_count": null,
   "metadata": {
    "collapsed": true
   },
   "outputs": [],
   "source": [
    "topitems = nlargest(50, most_hotels_cntr_hm_sdi.items(), key=itemgetter(1))"
   ]
  },
  {
   "cell_type": "code",
   "execution_count": null,
   "metadata": {
    "collapsed": true
   },
   "outputs": [],
   "source": [
    "topitems_dict = defaultdict(int)"
   ]
  },
  {
   "cell_type": "code",
   "execution_count": null,
   "metadata": {
    "collapsed": true
   },
   "outputs": [],
   "source": [
    "for k,v in topitems:\n",
    "    topitems_dict[k] = v"
   ]
  },
  {
   "cell_type": "code",
   "execution_count": null,
   "metadata": {
    "collapsed": true
   },
   "outputs": [],
   "source": [
    "############ Features transformation & Construction #############\n",
    "f = open(\"train.csv\", \"r\")\n",
    "f.readline()\n",
    "feature1_cntr_hm_sdi = defaultdict(lambda: defaultdict(list)) # feature_contstrunction\n",
    "total = 0\n",
    "missline = 0"
   ]
  },
  {
   "cell_type": "code",
   "execution_count": null,
   "metadata": {
    "collapsed": true
   },
   "outputs": [],
   "source": [
    "import time\n",
    "\n",
    "start = time.time()\n",
    "\n",
    "while 1:\n",
    "    line = f.readline().strip()\n",
    "    total += 1\n",
    "\n",
    "    if total % 10000000 == 0:\n",
    "        print('Read {} lines...'.format(total))\n",
    "\n",
    "    if line == '':\n",
    "        break\n",
    "\n",
    "    arr = line.split(\",\")\n",
    "    srch_destination_id = arr[16]\n",
    "    hotel_country = arr[21]\n",
    "    hotel_market = arr[22]\n",
    "\n",
    "    if srch_destination_id != '' and hotel_country != '' and hotel_market != '' and ((hotel_country,hotel_market,srch_destination_id) in topitems_dict):\n",
    "        try:\n",
    "            search_time_DT = datetime.strptime(arr[0], '%Y-%m-%d %H:%M:%S')\n",
    "            arr[0] = search_time_DT.hour      #srch_time_hour\n",
    "            arr[1] = search_time_DT.weekday() #srch_time_weekday\n",
    "            #arr[2] = int(arr[2])             #posa_continent\n",
    "            \n",
    "            arr[6] = float(arr[6]) #orig_dest_distance\n",
    "        \n",
    "            #arr[8] = int(arr[8]) #is_mobile\n",
    "            #arr[9] = int(arr[9]) #is_package\n",
    "            #arr[10] = int(arr[10]) #channel\n",
    "        \n",
    "            checkInDateDT = datetime.strptime(arr[11], \"%Y-%m-%d\")\n",
    "            checkOutDateDT = datetime.strptime(arr[12], \"%Y-%m-%d\") \n",
    "            arr[11] = checkInDateDT.timetuple().tm_yday + 1  #srch_ci_day\n",
    "            arr[12] = checkOutDateDT.timetuple().tm_yday+ 1 #srch_co_day\n",
    "\n",
    "            arr[13] = int(arr[13]) #srch_adult_count\n",
    "            arr[14] = int(arr[14]) #srch_child_count\n",
    "            arr[15] = int(arr[15]) #srch_room_count\n",
    "            \n",
    "            arr[16] = arr[12] - arr[11] #duration\n",
    "            #arr[17] = int(arr[17]) #srch_dest_type_id\n",
    "            arr[18] = int(arr[18])  #is_booking should be weighted\n",
    "            arr[19] = int(arr[19])  #hotel_cluster\n",
    "        except:\n",
    "            missline += 1\n",
    "            continue\n",
    "        colNames = ['hour','dow','posa','','','','dist','','mobile','package','channel','ci','co',\n",
    "                    'adults','children','room','stay','type','booking','cluster']\n",
    "        colindex = [0,1,2,6,8,9,10,11,12,13,14,15,16,17,18,19]\n",
    "        for i in colindex:\n",
    "            feature1_cntr_hm_sdi[(hotel_country,hotel_market,srch_destination_id)][colNames[i]].append(arr[i])\n",
    "\n",
    "f.close()\n",
    "end = time.time()\n",
    "print(end - start)"
   ]
  }
 ],
 "metadata": {
  "kernelspec": {
   "display_name": "Python 2",
   "language": "python",
   "name": "python2"
  },
  "language_info": {
   "codemirror_mode": {
    "name": "ipython",
    "version": 2
   },
   "file_extension": ".py",
   "mimetype": "text/x-python",
   "name": "python",
   "nbconvert_exporter": "python",
   "pygments_lexer": "ipython2",
   "version": "2.7.11"
  }
 },
 "nbformat": 4,
 "nbformat_minor": 0
}
