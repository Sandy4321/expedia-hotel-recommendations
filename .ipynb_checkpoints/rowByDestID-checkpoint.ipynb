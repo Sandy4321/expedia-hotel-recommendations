{
 "cells": [
  {
   "cell_type": "code",
   "execution_count": 1,
   "metadata": {
    "collapsed": true
   },
   "outputs": [],
   "source": [
    "# Qiwei Li\n",
    "# https://www.linkedin.com/in/liqiwei\n",
    "%matplotlib inline\n",
    "\n",
    "from datetime import datetime\n",
    "from collections import defaultdict\n",
    "import pickle\n",
    "import numpy as np\n",
    "import matplotlib.pyplot as plt\n",
    "import pandas as pd"
   ]
  },
  {
   "cell_type": "code",
   "execution_count": 2,
   "metadata": {
    "collapsed": true
   },
   "outputs": [],
   "source": [
    "trainDataFrameRowByDestId = defaultdict(int)\n",
    "testDataFrameRowByDestId = defaultdict(int)"
   ]
  },
  {
   "cell_type": "code",
   "execution_count": 3,
   "metadata": {
    "collapsed": false
   },
   "outputs": [
    {
     "name": "stdout",
     "output_type": "stream",
     "text": [
      "Opening train...\n",
      "Read 1000000 lines...\n",
      "Read 2000000 lines...\n",
      "Read 3000000 lines...\n",
      "Read 4000000 lines...\n",
      "Read 5000000 lines...\n",
      "Read 6000000 lines...\n",
      "Read 7000000 lines...\n",
      "Read 8000000 lines...\n",
      "Read 9000000 lines...\n",
      "Read 10000000 lines...\n",
      "Read 11000000 lines...\n",
      "Read 12000000 lines...\n",
      "Read 13000000 lines...\n",
      "Read 14000000 lines...\n",
      "Read 15000000 lines...\n",
      "Read 16000000 lines...\n",
      "Read 17000000 lines...\n",
      "Read 18000000 lines...\n",
      "Read 19000000 lines...\n",
      "Read 20000000 lines...\n",
      "Read 21000000 lines...\n",
      "Read 22000000 lines...\n",
      "Read 23000000 lines...\n",
      "Read 24000000 lines...\n",
      "Read 25000000 lines...\n",
      "Read 26000000 lines...\n",
      "Read 27000000 lines...\n",
      "Read 28000000 lines...\n",
      "Read 29000000 lines...\n",
      "Read 30000000 lines...\n",
      "Read 31000000 lines...\n",
      "Read 32000000 lines...\n",
      "Read 33000000 lines...\n",
      "Read 34000000 lines...\n",
      "Read 35000000 lines...\n",
      "Read 36000000 lines...\n",
      "Read 37000000 lines...\n",
      "Closing train...\n",
      "Opening test...\n",
      "Read 1000000 lines...\n",
      "Read 2000000 lines...\n",
      "Closing test...\n"
     ]
    }
   ],
   "source": [
    "print('Opening train...')\n",
    "f = open(\"data/train.csv\", \"r\")\n",
    "f.readline()\n",
    "total = 0\n",
    "    \n",
    "while 1:\n",
    "    line = f.readline().strip()\n",
    "    total += 1\n",
    "        \n",
    "    if total % 1000000 == 0:\n",
    "        print('Read {} lines...'.format(total))\n",
    "    if line == '':\n",
    "         break\n",
    "\n",
    "    arr = line.split(\",\")\n",
    "    srch_destination_id = arr[16]\n",
    "    hotel_market = arr[22]\n",
    "    \n",
    "    trainDataFrameRowByDestId[(hotel_market, srch_destination_id)] += 1\n",
    "    \n",
    "print('Closing train...')\n",
    "f.close()\n",
    "    \n",
    "print('Opening test...')\n",
    "f = open(\"data/test.csv\", \"r\")\n",
    "f.readline()\n",
    "total = 0\n",
    "    \n",
    "while 1:\n",
    "    line = f.readline().strip()\n",
    "    total += 1\n",
    "        \n",
    "    if total % 1000000 == 0:\n",
    "        print('Read {} lines...'.format(total))\n",
    "    if line == '':\n",
    "        break\n",
    "\n",
    "    arr = line.split(\",\")\n",
    "    srch_destination_id = arr[17]\n",
    "    hotel_market = arr[21]\n",
    "    \n",
    "    testDataFrameRowByDestId[(hotel_market, srch_destination_id)] += 1\n",
    "    \n",
    "print('Closing test...')\n",
    "f.close()"
   ]
  },
  {
   "cell_type": "code",
   "execution_count": 4,
   "metadata": {
    "collapsed": false
   },
   "outputs": [
    {
     "data": {
      "text/plain": [
       "[<matplotlib.lines.Line2D at 0x10ebc15d0>]"
      ]
     },
     "execution_count": 4,
     "metadata": {},
     "output_type": "execute_result"
    },
    {
     "data": {
      "image/png": "[encoded data removed]",
      "text/plain": [
       "<matplotlib.figure.Figure at 0x10afb2cd0>"
      ]
     },
     "metadata": {},
     "output_type": "display_data"
    }
   ],
   "source": [
    "unique, counts = np.unique(trainDataFrameRowByDestId.values(), return_counts=True)\n",
    "plt.plot(unique, counts, 'ro')"
   ]
  },
  {
   "cell_type": "code",
   "execution_count": 5,
   "metadata": {
    "collapsed": true
   },
   "outputs": [],
   "source": [
    "pickle.dump(trainDataFrameRowByDestId, open(\"data/trainDataFrameRowByDestId.p\", \"wb\"))\n",
    "pickle.dump(testDataFrameRowByDestId, open(\"data/testDataFrameRowByDestId.p\", \"wb\"))"
   ]
  }
 ],
 "metadata": {
  "kernelspec": {
   "display_name": "Python 2",
   "language": "python",
   "name": "python2"
  },
  "language_info": {
   "codemirror_mode": {
    "name": "ipython",
    "version": 2
   },
   "file_extension": ".py",
   "mimetype": "text/x-python",
   "name": "python",
   "nbconvert_exporter": "python",
   "pygments_lexer": "ipython2",
   "version": "2.7.11"
  }
 },
 "nbformat": 4,
 "nbformat_minor": 0
}
