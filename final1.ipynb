{
 "cells": [
  {
   "cell_type": "code",
   "execution_count": null,
   "metadata": {
    "collapsed": true
   },
   "outputs": [],
   "source": [
    "# impute dist\n",
    "# user_location_country <-----> hotel_country\n",
    "# user_location_region  <-----> hotel_market\n",
    "# user_location_city    <-----> srch_destination_id"
   ]
  },
  {
   "cell_type": "code",
   "execution_count": 11,
   "metadata": {
    "collapsed": true
   },
   "outputs": [],
   "source": [
    "%matplotlib inline\n",
    "from datetime import datetime\n",
    "from heapq import nlargest\n",
    "import operator\n",
    "from collections import defaultdict\n",
    "import time\n",
    "import matplotlib.pyplot as plt\n",
    "import numpy as np\n",
    "import pandas as pd\n",
    "import pickle"
   ]
  },
  {
   "cell_type": "code",
   "execution_count": 2,
   "metadata": {
    "collapsed": true
   },
   "outputs": [],
   "source": [
    "# can use both train and test\n",
    "continent_mean_dist = defaultdict(int)\n",
    "country_mean_dist = defaultdict(int)\n",
    "region_mean_dist = defaultdict(int)\n",
    "city_mean_dist = defaultdict(int)\n",
    "\n",
    "continent_n_dist = defaultdict(int)\n",
    "country_n_dist = defaultdict(int)\n",
    "region_n_dist = defaultdict(int)\n",
    "city_n_dist = defaultdict(int)\n",
    "\n",
    "\n",
    "check_in_freq= defaultdict(defaultdict(int))\n",
    "check_out_freq = defaultdict(defaultdict(int))\n",
    "\n",
    "# use only train\n",
    "user_freq_all = defaultdict(int)\n",
    "user_freq_book = defaultdict(int)\n",
    "\n",
    "\n",
    "market_freq = defaultdict(int)\n",
    "dest_freq = defaultdict(int)"
   ]
  },
  {
   "cell_type": "code",
   "execution_count": 3,
   "metadata": {
    "collapsed": false
   },
   "outputs": [
    {
     "name": "stdout",
     "output_type": "stream",
     "text": [
      "Read 5000000 lines...\n",
      "Read 10000000 lines...\n",
      "Read 15000000 lines...\n",
      "Read 20000000 lines...\n",
      "Read 25000000 lines...\n",
      "Read 30000000 lines...\n",
      "Read 35000000 lines...\n",
      "Done\n",
      "503.332339048\n"
     ]
    }
   ],
   "source": [
    "f = open(\"data/train.csv\", \"r\")\n",
    "f.readline()\n",
    "\n",
    "total = 0\n",
    "start = time.time()\n",
    "\n",
    "while 1:\n",
    "    line = f.readline().strip()\n",
    "    total += 1\n",
    "        \n",
    "    if total % 5000000 == 0:\n",
    "        print('Read {} lines...'.format(total))\n",
    "    if line == '':\n",
    "         break\n",
    "        \n",
    "    if line > 100:\n",
    "        break\n",
    "        \n",
    "    arr = line.split(\",\")\n",
    "    \n",
    "    orig_destination_distance = arr[6]\n",
    "    \n",
    "    posa_continent = arr[2]\n",
    "    user_location_country = arr[3]\n",
    "    user_location_region = arr[4]\n",
    "    user_location_city = arr[5]\n",
    "    \n",
    "    \n",
    "    hotel_continent = arr[20]\n",
    "    hotel_country = arr[21]\n",
    "    hotel_market = arr[22]\n",
    "    srch_destination_id = arr[16]\n",
    "    \n",
    "    srch_ci = arr[12]\n",
    "    srch_co = arr[13]\n",
    "    \n",
    "    user_id = arr[7]\n",
    "    is_booking = arr[7]\n",
    "    \n",
    "    info = [orig_destination_distance,\n",
    "            posa_continent, user_location_country, user_location_region, user_location_city, \n",
    "            hotel_continent, hotel_country, hotel_market, srch_destination_id,\n",
    "            srch_ci, srch_co, user_id, is_booking]\n",
    "    \n",
    "    if any (x == \"\" for x in info):\n",
    "        continue\n",
    "    \n",
    "    id_user_0 = (posa_continent)\n",
    "    id_user_1 = (user_location_country)\n",
    "    id_user_2 = (user_location_country, user_location_region)\n",
    "    id_user_3 = (user_location_country, user_location_region, user_location_city)\n",
    "    \n",
    "    id_hotel_0 = (hotel_continent)\n",
    "    id_hotel_1 = (hotel_country)\n",
    "    id_hotel_2 = (hotel_country, hotel_market)\n",
    "    id_hotel_3 = (hotel_country, hotel_market, srch_destination_id)\n",
    "    \n",
    "    value = float(orig_destination_distance)\n",
    "    \n",
    "    continent_n_dist[(id_user_0, id_hotel_0)] += 1\n",
    "    continent_mean_dist[(id_user_0, id_hotel_0)] += value\n",
    "    \n",
    "    country_n_dist[(id_user_1, id_hotel_1)] += 1\n",
    "    country_mean_dist[(id_user_1, id_hotel_1)] += value\n",
    "    \n",
    "    region_n_dist[(id_user_2, id_hotel_2)] +=1\n",
    "    region_mean_dist[(id_user_2, id_hotel_2)] += value\n",
    "    \n",
    "    city_n_dist[(id_user_3, id_hotel_3)] += 1\n",
    "    city_mean_dist[(id_user_3, id_hotel_3)] += value\n",
    "    \n",
    "print('Done')\n",
    "f.close()\n",
    "\n",
    "end = time.time()\n",
    "print(end - start)"
   ]
  },
  {
   "cell_type": "code",
   "execution_count": 4,
   "metadata": {
    "collapsed": false
   },
   "outputs": [
    {
     "name": "stdout",
     "output_type": "stream",
     "text": [
      "Done\n",
      "34.7167770863\n"
     ]
    }
   ],
   "source": [
    "f = open(\"data/test.csv\", \"r\")\n",
    "f.readline()\n",
    "\n",
    "total = 0\n",
    "start = time.time()\n",
    "\n",
    "while 1:\n",
    "    line = f.readline().strip()\n",
    "    total += 1\n",
    "        \n",
    "    if total % 5000000 == 0:\n",
    "        print('Read {} lines...'.format(total))\n",
    "    if line == '':\n",
    "         break\n",
    "        \n",
    "    arr = line.split(\",\")\n",
    "    \n",
    "    posa_continent = arr[3]\n",
    "    user_location_country = arr[4]\n",
    "    user_location_region = arr[5]\n",
    "    user_location_city = arr[6]\n",
    "    orig_destination_distance = arr[7]\n",
    "    hotel_continent = arr[19]\n",
    "    hotel_country = arr[20]\n",
    "    hotel_market = arr[21]\n",
    "    srch_destination_id = arr[17]\n",
    "    \n",
    "    info = [orig_destination_distance,\n",
    "            posa_continent, user_location_country, user_location_region, user_location_city, \n",
    "            hotel_continent, hotel_country, hotel_market, srch_destination_id]\n",
    "    \n",
    "    if any (x == \"\" for x in info):\n",
    "        continue\n",
    "    \n",
    "    id_user_0 = (posa_continent)\n",
    "    id_user_1 = (user_location_country)\n",
    "    id_user_2 = (user_location_country, user_location_region)\n",
    "    id_user_3 = (user_location_country, user_location_region, user_location_city)\n",
    "    \n",
    "    id_hotel_0 = (hotel_continent)\n",
    "    id_hotel_1 = (hotel_country)\n",
    "    id_hotel_2 = (hotel_country, hotel_market)\n",
    "    id_hotel_3 = (hotel_country, hotel_market, srch_destination_id)\n",
    "    \n",
    "    value = float(orig_destination_distance)\n",
    "    \n",
    "    continent_n_dist[(id_user_0, id_hotel_0)] += 1\n",
    "    continent_mean_dist[(id_user_0, id_hotel_0)] += value\n",
    "    \n",
    "    country_n_dist[(id_user_1, id_hotel_1)] += 1\n",
    "    country_mean_dist[(id_user_1, id_hotel_1)] += value\n",
    "    \n",
    "    region_n_dist[(id_user_2, id_hotel_2)] +=1\n",
    "    region_mean_dist[(id_user_2, id_hotel_2)] += value\n",
    "    \n",
    "    city_n_dist[(id_user_3, id_hotel_3)] += 1\n",
    "    city_mean_dist[(id_user_3, id_hotel_3)] += value\n",
    "    \n",
    "print('Done')\n",
    "f.close()\n",
    "\n",
    "end = time.time()\n",
    "print(end - start)"
   ]
  },
  {
   "cell_type": "code",
   "execution_count": 5,
   "metadata": {
    "collapsed": false
   },
   "outputs": [],
   "source": [
    "continent_dist = defaultdict(int)\n",
    "country_dist = defaultdict(int)\n",
    "region_dist = defaultdict(int)\n",
    "city_dist = defaultdict(int)\n",
    "user_freq_ratio = defaultdict(defaultdict(int))\n",
    "dest_freq_ratio"
   ]
  },
  {
   "cell_type": "code",
   "execution_count": 6,
   "metadata": {
    "collapsed": false
   },
   "outputs": [],
   "source": [
    "for k,v in continent_mean_dist.iteritems():\n",
    "    n = continent_n_dist[k]\n",
    "    if n!=0:\n",
    "        continent_dist[k] = v / n"
   ]
  },
  {
   "cell_type": "code",
   "execution_count": 7,
   "metadata": {
    "collapsed": true
   },
   "outputs": [],
   "source": [
    "for k,v in country_mean_dist.iteritems():\n",
    "    n = country_n_dist[k]\n",
    "    if n!=0:\n",
    "        country_dist[k] = v / n"
   ]
  },
  {
   "cell_type": "code",
   "execution_count": 8,
   "metadata": {
    "collapsed": false
   },
   "outputs": [],
   "source": [
    "for k,v in region_mean_dist.iteritems():\n",
    "    n = region_n_dist[k]\n",
    "    if n!=0:\n",
    "        region_dist[k] = v / n"
   ]
  },
  {
   "cell_type": "code",
   "execution_count": 9,
   "metadata": {
    "collapsed": false
   },
   "outputs": [],
   "source": [
    "for k,v in city_mean_dist.iteritems():\n",
    "    n = city_n_dist[k]\n",
    "    if n!=0:\n",
    "        city_dist[k] = v / n"
   ]
  },
  {
   "cell_type": "code",
   "execution_count": null,
   "metadata": {
    "collapsed": false
   },
   "outputs": [],
   "source": [
    "pickle.dump(continent_dist, open(\"data/continent_dist.p\", \"wb\"))\n",
    "pickle.dump(country_dist, open(\"data/country_dist.p\", \"wb\"))\n",
    "pickle.dump(region_dist, open(\"data/region_dist.p\", \"wb\"))\n",
    "pickle.dump(city_dist, open(\"data/city_dist.p\", \"wb\"))"
   ]
  }
 ],
 "metadata": {
  "kernelspec": {
   "display_name": "Python 2",
   "language": "python",
   "name": "python2"
  },
  "language_info": {
   "codemirror_mode": {
    "name": "ipython",
    "version": 2
   },
   "file_extension": ".py",
   "mimetype": "text/x-python",
   "name": "python",
   "nbconvert_exporter": "python",
   "pygments_lexer": "ipython2",
   "version": "2.7.11"
  }
 },
 "nbformat": 4,
 "nbformat_minor": 0
}
