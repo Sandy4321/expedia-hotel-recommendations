{
 "cells": [
  {
   "cell_type": "code",
   "execution_count": null,
   "metadata": {
    "collapsed": true
   },
   "outputs": [],
   "source": [
    "# Qiwei Li\n",
    "# https://www.linkedin.com/in/liqiwei\n",
    "%matplotlib inline\n",
    "\n",
    "from datetime import datetime\n",
    "from collections import defaultdict\n",
    "import pickle\n",
    "import numpy as np\n",
    "import matplotlib.pyplot as plt\n",
    "import pandas as pd\n",
    "import timeit\n",
    "from sys import stdout"
   ]
  },
  {
   "cell_type": "code",
   "execution_count": null,
   "metadata": {
    "collapsed": true
   },
   "outputs": [],
   "source": [
    "# load pre-computed data\n",
    "checkInDensityByHotelMarket = pickle.load(open(\"data/checkInDensityByHotelMarket.p\", \"rb\"))\n",
    "checkOutDensityByHotelMarket = pickle.load(open(\"data/checkOutDensityByHotelMarket.p\", \"rb\"))"
   ]
  },
  {
   "cell_type": "code",
   "execution_count": null,
   "metadata": {
    "collapsed": false
   },
   "outputs": [],
   "source": [
    "# load train\n",
    "train = pd.read_csv(\"data/train.csv\")"
   ]
  },
  {
   "cell_type": "code",
   "execution_count": null,
   "metadata": {
    "collapsed": false
   },
   "outputs": [],
   "source": [
    "# search time\n",
    "train[\"date_time\"] = pd.to_datetime(train[\"date_time\"])\n",
    "train['search_hour'] = train['date_time'].dt.hour\n",
    "train['search_dow'] = train['date_time'].dt.dayofweek"
   ]
  },
  {
   "cell_type": "code",
   "execution_count": null,
   "metadata": {
    "collapsed": false
   },
   "outputs": [],
   "source": [
    "# check in date\n",
    "train[\"srch_ci\"] = pd.to_datetime(train[\"srch_ci\"], 'coerce')\n",
    "train['srch_ci'] = train['srch_ci'].dt.dayofyear"
   ]
  },
  {
   "cell_type": "code",
   "execution_count": null,
   "metadata": {
    "collapsed": false
   },
   "outputs": [],
   "source": [
    "# check out date\n",
    "train[\"srch_co\"] = pd.to_datetime(train[\"srch_co\"], 'coerce')\n",
    "train['srch_co'] = train['srch_co'].dt.dayofyear"
   ]
  },
  {
   "cell_type": "code",
   "execution_count": null,
   "metadata": {
    "collapsed": false
   },
   "outputs": [],
   "source": [
    "# stay length\n",
    "train['stay_length'] = train['srch_co'] - train['srch_ci']"
   ]
  },
  {
   "cell_type": "code",
   "execution_count": null,
   "metadata": {
    "collapsed": true
   },
   "outputs": [],
   "source": [
    "# heat\n",
    "train['ci_heat'] = 0\n",
    "train['co_heat'] = 0"
   ]
  },
  {
   "cell_type": "code",
   "execution_count": null,
   "metadata": {
    "collapsed": false
   },
   "outputs": [],
   "source": [
    "# fill heat\n",
    "for i in range(10):\n",
    "    stdout.write(\"\\r%d\" % i)\n",
    "    stdout.flush()\n",
    "    try:\n",
    "        hotel_country = train.iloc[i, 21]\n",
    "        hotel_market = train.iloc[i, 22]\n",
    "        pIn = checkInDensityByHotelMarket[(str(hotel_country), str(hotel_market))]\n",
    "        pOut = checkInDensityByHotelMarket[(str(hotel_country), str(hotel_market))]\n",
    "        train.iloc[i, 27] = pIn(train.iloc[i, 11])\n",
    "        train.iloc[i, 28] = pOut(train.iloc[i, 12])\n",
    "    except:\n",
    "        continue        "
   ]
  },
  {
   "cell_type": "code",
   "execution_count": null,
   "metadata": {
    "collapsed": false
   },
   "outputs": [],
   "source": [
    "train.head()"
   ]
  },
  {
   "cell_type": "code",
   "execution_count": null,
   "metadata": {
    "collapsed": false
   },
   "outputs": [],
   "source": [
    "train['ci_doy'][0]"
   ]
  },
  {
   "cell_type": "code",
   "execution_count": null,
   "metadata": {
    "collapsed": false
   },
   "outputs": [],
   "source": [
    "train['hotel_country'][0]"
   ]
  },
  {
   "cell_type": "code",
   "execution_count": null,
   "metadata": {
    "collapsed": false
   },
   "outputs": [],
   "source": [
    "checkInDensityByHotelMarket[(str(train['hotel_country'][0]), str(train['hotel_market'][0]))](train['ci_doy'][0])"
   ]
  },
  {
   "cell_type": "code",
   "execution_count": null,
   "metadata": {
    "collapsed": false
   },
   "outputs": [],
   "source": [
    "train.head()"
   ]
  },
  {
   "cell_type": "code",
   "execution_count": null,
   "metadata": {
    "collapsed": true
   },
   "outputs": [],
   "source": [
    "'''\n",
    "print('Start sorting ... ' + str(datetime.now().time()))\n",
    "train.sort(['hotel_market','srch_destination_id'], ascending=[True,True])\n",
    "print('End sorting ... ' + str(datetime.now().time()))\n",
    "'''"
   ]
  }
 ],
 "metadata": {
  "kernelspec": {
   "display_name": "Python 2",
   "language": "python",
   "name": "python2"
  },
  "language_info": {
   "codemirror_mode": {
    "name": "ipython",
    "version": 2
   },
   "file_extension": ".py",
   "mimetype": "text/x-python",
   "name": "python",
   "nbconvert_exporter": "python",
   "pygments_lexer": "ipython2",
   "version": "2.7.11"
  }
 },
 "nbformat": 4,
 "nbformat_minor": 0
}
