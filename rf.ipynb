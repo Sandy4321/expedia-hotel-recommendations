{
 "cells": [
  {
   "cell_type": "code",
   "execution_count": 1,
   "metadata": {
    "collapsed": true
   },
   "outputs": [],
   "source": [
    "%matplotlib inline\n",
    "from datetime import datetime\n",
    "from heapq import nlargest\n",
    "import operator\n",
    "from collections import defaultdict\n",
    "import time\n",
    "import matplotlib.pyplot as plt\n",
    "import numpy as np\n",
    "import pandas as pd"
   ]
  },
  {
   "cell_type": "code",
   "execution_count": null,
   "metadata": {
    "collapsed": false
   },
   "outputs": [],
   "source": [
    "# a combination of hotel_country + hotel_market + srch_destination_id is one ID\n",
    "# find most popular 10 ID\n",
    "# for the class project, we only use 2013 as train and 2014 as test\n",
    "\n",
    "f = open(\"data/train.csv\", \"r\")\n",
    "f.readline()\n",
    "top = defaultdict(int)\n",
    "total = 0\n",
    "start = time.time()\n",
    "\n",
    "while 1:\n",
    "    line = f.readline().strip()\n",
    "    total += 1\n",
    "        \n",
    "    if total % 5000000 == 0:\n",
    "        print('Read {} lines...'.format(total))\n",
    "    if line == '':\n",
    "         break\n",
    "\n",
    "    arr = line.split(\",\")\n",
    "    hotel_country = arr[21]\n",
    "    hotel_market = arr[22]\n",
    "    srch_destination_id = arr[16]\n",
    "    book_year = arr[0][:4]\n",
    "    \n",
    "    if book_year == '2013':\n",
    "        top[(hotel_country, hotel_market, srch_destination_id)] += 1\n",
    "        \n",
    "print('Done')\n",
    "f.close()\n",
    "\n",
    "end = time.time()\n",
    "print(end - start)"
   ]
  },
  {
   "cell_type": "code",
   "execution_count": null,
   "metadata": {
    "collapsed": false
   },
   "outputs": [],
   "source": [
    "# check out most 10\n",
    "\n",
    "sorted_top = sorted(top.items(), key=operator.itemgetter(1), reverse=True)\n",
    "nTop = 10\n",
    "ids = []\n",
    "for i in range(nTop):\n",
    "    ids.append((sorted_top[i])[0])\n",
    "\n",
    "ids"
   ]
  },
  {
   "cell_type": "code",
   "execution_count": 2,
   "metadata": {
    "collapsed": false
   },
   "outputs": [],
   "source": [
    "# subset data\n",
    "f = open(\"data/train.csv\", \"r\")\n",
    "f.readline()\n",
    "\n",
    "def dl():\n",
    "    return defaultdict(list)\n",
    "\n",
    "features = defaultdict(dl)\n",
    "total = 0\n",
    "missline = 0"
   ]
  },
  {
   "cell_type": "code",
   "execution_count": null,
   "metadata": {
    "collapsed": false
   },
   "outputs": [],
   "source": [
    "start = time.time()\n",
    "while 1:\n",
    "    line = f.readline().strip()\n",
    "    total += 1\n",
    "\n",
    "    \n",
    "    if total % 5000000 == 0:\n",
    "        print('Read {} lines...'.format(total))\n",
    "\n",
    "    if line == '':\n",
    "        break\n",
    "    \n",
    "    arr = line.split(\",\")\n",
    "    srch_destination_id = arr[16]\n",
    "    hotel_country = arr[21]\n",
    "    hotel_market = arr[22]\n",
    "    id = (hotel_country, hotel_market, srch_destination_id)\n",
    "    \n",
    "    #if srch_destination_id != '' and hotel_country != '' and hotel_market != '' and (id in ids):\n",
    "    if id == ('50', '628', '8250'):\n",
    "        try:\n",
    "            search_time_DT = datetime.strptime(arr[0], '%Y-%m-%d %H:%M:%S')\n",
    "            checkInDateDT = datetime.strptime(arr[11], \"%Y-%m-%d\")\n",
    "            checkOutDateDT = datetime.strptime(arr[12], \"%Y-%m-%d\") \n",
    "            \n",
    "            arr[0] = search_time_DT.hour                      #srch_time_hour\n",
    "            arr[1] = search_time_DT.weekday()                 #srch_time_weekday\n",
    "            #arr[2]                                           #posa_continent\n",
    "            #arr[3]                                           #user_location_country\n",
    "            #arr[4]                                           #user_location_region\n",
    "            arr[5] = search_time_DT.year                      #srch_time_year\n",
    "            #arr[6]                                           #orig_dest_distance\n",
    "            arr[7] = search_time_DT.timetuple().tm_yday       #srch_time_day_of_year\n",
    "            #arr[8]                                           #is_mobile\n",
    "            #arr[9]                                           #is_package\n",
    "            #arr[10]                                          #channel\n",
    "            arr[11] = checkInDateDT.timetuple().tm_yday       #srch_ci_day\n",
    "            arr[12] = checkOutDateDT.timetuple().tm_yday      #srch_co_day\n",
    "            #arr[13]                                          #srch_adult_count\n",
    "            #arr[14]                                          #srch_child_count\n",
    "            #arr[15]                                          #srch_room_count\n",
    "            arr[16] = arr[12] - arr[11]+(checkOutDateDT.year-checkInDateDT)*356  #stay\n",
    "            #arr[17]                                          #srch_dest_type_id\n",
    "            #arr[18]                                          #is_booking should be weighted\n",
    "            arr[19] = arr[11]-arr[7]+(checkInDateDT.year-arr[5])*365   #plan_ahead\n",
    "            arr[20] = srch_destination_id                     #srch_destination_id\n",
    "            #arr[21]                                          #hotel_country\n",
    "            #arr[22]                                          #hotel_market\n",
    "            #arr[23]                                          #hotel_cluster\n",
    "            \n",
    "            if arr[16] < 0:\n",
    "                arr[16] = 1\n",
    "                \n",
    "            if arr[19] < 0:\n",
    "                arr[19] = 1\n",
    "            \n",
    "        except:\n",
    "            missline += 1\n",
    "            continue\n",
    "            \n",
    "        colNames = ['hour','dow','user_continent','user_country','user_region',\n",
    "                    'year','dist','doy','mobile','package',\n",
    "                    'channel','ci_day','co_day','adults','children',\n",
    "                    'room','stay','type','booking','plan',\n",
    "                    'srch_destination_id','hotel_country','hotel_market','hotel_cluster']\n",
    "\n",
    "        for i in range(len(arr)):\n",
    "            features[id][colNames[i]].append(arr[i])\n",
    "\n",
    "f.close()\n",
    "end = time.time()\n",
    "print(end - start)\n",
    "print missline"
   ]
  },
  {
   "cell_type": "code",
   "execution_count": null,
   "metadata": {
    "collapsed": true
   },
   "outputs": [],
   "source": [
    "# transfer check in/out day to heat\n",
    "\n",
    "import collections as cl\n",
    "check_InOut_time = defaultdict(lambda: defaultdict(list))\n",
    "check_InOut_PopTable = defaultdict(lambda: defaultdict(lambda: defaultdict(float)))"
   ]
  },
  {
   "cell_type": "code",
   "execution_count": null,
   "metadata": {
    "collapsed": false
   },
   "outputs": [],
   "source": [
    "start = time.time()\n",
    "\n",
    "for k,v in features.iteritems():\n",
    "    check_InOut_time[k]['ci_day'] = [day for day in v['ci_day']]\n",
    "    check_InOut_time[k]['co_day'] = [day for day in v['co_day']]\n",
    "    temp_ci_day = check_InOut_time[k]['ci_day']\n",
    "    temp_co_day = check_InOut_time[k]['co_day']\n",
    "    counter_ci_day = cl.Counter(temp_ci_day)\n",
    "    counter_co_day = cl.Counter(temp_co_day)\n",
    "\n",
    "    ####### fit ci day ########\n",
    "    xci= np.array(counter_ci_day.keys())\n",
    "    yci = np.array(counter_ci_day.values())\n",
    "    parameter = np.polyfit(xci,yci,12)\n",
    "    p12ci = np.poly1d(parameter)\n",
    "    yci_new = p12ci(xci)\n",
    "    for i in range(len(xci)):\n",
    "        check_InOut_PopTable[k]['ci_pop'][xci[i]] = yci_new[i]\n",
    "    check_InOut_time[k]['ci_pop'] = [check_InOut_PopTable[k]['ci_pop'][day] for day in v['ci_day']]\n",
    "    #plt.plot(xci,yci_new,'b-',xci,yci)\n",
    "    #plt.show()\n",
    "\n",
    "    ####### fit co day ########\n",
    "    xco= np.array(counter_co_day.keys())\n",
    "    yco = np.array(counter_co_day.values())\n",
    "    parameter = np.polyfit(xco,yco,12)\n",
    "    p12co = np.poly1d(parameter)\n",
    "    yco_new = p12co(xco)\n",
    "    for i in range(len(xco)):\n",
    "        check_InOut_PopTable[k]['co_pop'][xco[i]] = yco_new[i]\n",
    "    check_InOut_time[k]['co_pop'] = [check_InOut_PopTable[k]['co_pop'][day] for day in v['co_day']]\n",
    "    #plt.plot(xco,yco_new,'b-',xco,yco)\n",
    "    #plt.show()\n",
    "    \n",
    "end = time.time()\n",
    "print (end - start)"
   ]
  },
  {
   "cell_type": "code",
   "execution_count": null,
   "metadata": {
    "collapsed": false
   },
   "outputs": [],
   "source": [
    "for k,v in features.iteritems():\n",
    "    v['ci_day'] = check_InOut_time[k]['ci_pop']\n",
    "    \n",
    "for k,v in features.iteritems():\n",
    "    v['co_day'] = check_InOut_time[k]['co_pop']"
   ]
  },
  {
   "cell_type": "code",
   "execution_count": null,
   "metadata": {
    "collapsed": false
   },
   "outputs": [],
   "source": [
    "features.items()[0][1].keys()"
   ]
  },
  {
   "cell_type": "code",
   "execution_count": null,
   "metadata": {
    "collapsed": false
   },
   "outputs": [],
   "source": [
    "for k, v in features.iteritems():\n",
    "    df = pd.DataFrame(v)\n",
    "    filename = k[0]+'-'+k[1]+'-'+k[2]+'.csv'\n",
    "    df.to_csv('data/csv2/'+filename)"
   ]
  },
  {
   "cell_type": "code",
   "execution_count": null,
   "metadata": {
    "collapsed": false
   },
   "outputs": [],
   "source": [
    "# now randomforest\n",
    "\n",
    "from sklearn import cross_validation\n",
    "from sklearn.ensemble import RandomForestClassifier"
   ]
  },
  {
   "cell_type": "code",
   "execution_count": null,
   "metadata": {
    "collapsed": false
   },
   "outputs": [],
   "source": [
    "RFlist = features.items()[0][1].keys()\n",
    "for tag in ['year', 'hotel_country','srch_destination_id','booking',\n",
    "            'hotel_market','user_region','user_country','doy','user_continent']:\n",
    "    RFlist.remove(tag)\n",
    "print RFlist"
   ]
  },
  {
   "cell_type": "code",
   "execution_count": null,
   "metadata": {
    "collapsed": false
   },
   "outputs": [],
   "source": []
  },
  {
   "cell_type": "code",
   "execution_count": null,
   "metadata": {
    "collapsed": true
   },
   "outputs": [],
   "source": [
    "train = data[data['year']==2013]\n",
    "test = data[data['year']==2014]"
   ]
  },
  {
   "cell_type": "code",
   "execution_count": null,
   "metadata": {
    "collapsed": true
   },
   "outputs": [],
   "source": [
    "RFlist = ['dist', 'adults', 'hour', 'package', 'mobile', 'children', 'ci_pop', 'posa', 'cluster', 'co_pop', 'booking', 'year', 'stay', 'type', 'dow', 'channel', 'room']"
   ]
  },
  {
   "cell_type": "code",
   "execution_count": null,
   "metadata": {
    "collapsed": false
   },
   "outputs": [],
   "source": [
    "RFlist"
   ]
  },
  {
   "cell_type": "code",
   "execution_count": null,
   "metadata": {
    "collapsed": true
   },
   "outputs": [],
   "source": [
    "predictors = [tag for tag in data.columns if tag in RFlist]"
   ]
  },
  {
   "cell_type": "code",
   "execution_count": null,
   "metadata": {
    "collapsed": false
   },
   "outputs": [],
   "source": [
    "predictors"
   ]
  },
  {
   "cell_type": "code",
   "execution_count": null,
   "metadata": {
    "collapsed": true
   },
   "outputs": [],
   "source": [
    "probas = clf.fit(train[predictors],train['cluster'])"
   ]
  },
  {
   "cell_type": "code",
   "execution_count": null,
   "metadata": {
    "collapsed": false
   },
   "outputs": [],
   "source": [
    "ytest = test['cluster']"
   ]
  },
  {
   "cell_type": "code",
   "execution_count": null,
   "metadata": {
    "collapsed": false
   },
   "outputs": [],
   "source": [
    "probas[:5]"
   ]
  },
  {
   "cell_type": "code",
   "execution_count": null,
   "metadata": {
    "collapsed": false
   },
   "outputs": [],
   "source": [
    "ytest[:5]"
   ]
  }
 ],
 "metadata": {
  "kernelspec": {
   "display_name": "Python 2",
   "language": "python",
   "name": "python2"
  },
  "language_info": {
   "codemirror_mode": {
    "name": "ipython",
    "version": 2
   },
   "file_extension": ".py",
   "mimetype": "text/x-python",
   "name": "python",
   "nbconvert_exporter": "python",
   "pygments_lexer": "ipython2",
   "version": "2.7.11"
  }
 },
 "nbformat": 4,
 "nbformat_minor": 0
}
