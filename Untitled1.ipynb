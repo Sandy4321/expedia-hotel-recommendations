{
 "cells": [
  {
   "cell_type": "code",
   "execution_count": 1,
   "metadata": {
    "collapsed": true
   },
   "outputs": [],
   "source": [
    "import pandas as pd\n",
    "from sklearn import cross_validation\n",
    "from sklearn.ensemble import RandomForestClassifier\n",
    "import time\n",
    "from collections import defaultdict\n",
    "import pickle\n",
    "import operator"
   ]
  },
  {
   "cell_type": "code",
   "execution_count": 3,
   "metadata": {
    "collapsed": true
   },
   "outputs": [],
   "source": [
    "meanDist = defaultdict(list)"
   ]
  },
  {
   "cell_type": "code",
   "execution_count": null,
   "metadata": {
    "collapsed": true
   },
   "outputs": [],
   "source": [
    "print('Opening train...')\n",
    "f = open(\"data/csv2/50-628-8250.csv\", \"r\")\n",
    "f.readline()\n",
    "total = 0\n",
    "    \n",
    "while 1:\n",
    "    line = f.readline().strip()\n",
    "    total += 1\n",
    "        \n",
    "    if total % 5000000 == 0:\n",
    "        print('Read {} lines...'.format(total))\n",
    "    if line == '':\n",
    "         break\n",
    "\n",
    "    arr = line.split(\",\")\n",
    "    hotel_country = arr[21]\n",
    "    hotel_market = arr[22] \n",
    "    orig_destination_distance = arr[21]\n",
    "    meanDist[hotel_market].append()\n",
    "        \n",
    "print('Closing train...')\n",
    "f.close()"
   ]
  },
  {
   "cell_type": "code",
   "execution_count": null,
   "metadata": {
    "collapsed": true
   },
   "outputs": [],
   "source": [
    "data = pd.read_csv(\"data/csv2/50-628-8250.csv\")"
   ]
  },
  {
   "cell_type": "code",
   "execution_count": null,
   "metadata": {
    "collapsed": false
   },
   "outputs": [],
   "source": [
    "data.head()"
   ]
  },
  {
   "cell_type": "code",
   "execution_count": null,
   "metadata": {
    "collapsed": false
   },
   "outputs": [],
   "source": [
    "data.columns.values"
   ]
  },
  {
   "cell_type": "code",
   "execution_count": null,
   "metadata": {
    "collapsed": false
   },
   "outputs": [],
   "source": [
    "predictors = ['adults', 'children', 'ci_day', 'co_day', 'dist',\n",
    "              'dow', 'hour', 'mobile', 'package','plan',\n",
    "              'room', 'stay']"
   ]
  },
  {
   "cell_type": "code",
   "execution_count": null,
   "metadata": {
    "collapsed": false
   },
   "outputs": [],
   "source": [
    "start = time.time()\n",
    "clf = RandomForestClassifier(n_estimators=100)\n",
    "train = data[data['year']==2013]\n",
    "test = data[data['year']==2014]\n",
    "rf = clf.fit(train[predictors],train['hotel_cluster'])\n",
    "pred = rf.predict(test[predictors])\n",
    "end = time.time()\n",
    "print(end - start)"
   ]
  },
  {
   "cell_type": "code",
   "execution_count": null,
   "metadata": {
    "collapsed": false
   },
   "outputs": [],
   "source": [
    "ytest = test['hotel_cluster']\n",
    "count = 0\n",
    "for i in range(len(ytest)):\n",
    "    if pred[i] == ytest.iloc[i]: count += 1\n",
    "        \n",
    "count*1.0/len(ytest)"
   ]
  },
  {
   "cell_type": "code",
   "execution_count": null,
   "metadata": {
    "collapsed": false
   },
   "outputs": [],
   "source": [
    "rf.feature_importances_"
   ]
  },
  {
   "cell_type": "code",
   "execution_count": null,
   "metadata": {
    "collapsed": false
   },
   "outputs": [],
   "source": [
    "ytest[1:20]"
   ]
  },
  {
   "cell_type": "code",
   "execution_count": null,
   "metadata": {
    "collapsed": false
   },
   "outputs": [],
   "source": [
    "pred[1:20]"
   ]
  }
 ],
 "metadata": {
  "kernelspec": {
   "display_name": "Python 2",
   "language": "python",
   "name": "python2"
  },
  "language_info": {
   "codemirror_mode": {
    "name": "ipython",
    "version": 2
   },
   "file_extension": ".py",
   "mimetype": "text/x-python",
   "name": "python",
   "nbconvert_exporter": "python",
   "pygments_lexer": "ipython2",
   "version": "2.7.11"
  }
 },
 "nbformat": 4,
 "nbformat_minor": 0
}
