{
 "cells": [
  {
   "cell_type": "code",
   "execution_count": null,
   "metadata": {
    "collapsed": true
   },
   "outputs": [],
   "source": [
    "# Qiwei Li\n",
    "# https://www.linkedin.com/in/liqiwei\n",
    "%matplotlib inline\n",
    "\n",
    "from datetime import datetime\n",
    "from collections import defaultdict\n",
    "import pickle\n",
    "import numpy as np\n",
    "import pandas as pd\n",
    "import timeit\n",
    "from sys import stdout"
   ]
  },
  {
   "cell_type": "code",
   "execution_count": null,
   "metadata": {
    "collapsed": false
   },
   "outputs": [],
   "source": [
    "def dd():\n",
    "    return defaultdict(int)\n",
    "\n",
    "train = pd.read_csv(\"data/newTrain.csv\")\n",
    "test = pd.read_csv(\"data/newTest.csv\")\n",
    "checkInReady = pickle.load(open(\"data/checkInReady.p\", \"rb\"))\n",
    "checkOutReady = pickle.load(open(\"data/checkOutReady.p\", \"rb\"))"
   ]
  },
  {
   "cell_type": "code",
   "execution_count": null,
   "metadata": {
    "collapsed": true
   },
   "outputs": [],
   "source": [
    "# search time\n",
    "train[\"date_time\"] = pd.to_datetime(train[\"date_time\"])\n",
    "train['search_hour'] = train['date_time'].dt.hour\n",
    "train['search_dow'] = train['date_time'].dt.dayofweek\n",
    "\n",
    "test[\"date_time\"] = pd.to_datetime(test[\"date_time\"])\n",
    "test['search_hour'] = test['date_time'].dt.hour\n",
    "test['search_dow'] = test['date_time'].dt.dayofweek"
   ]
  },
  {
   "cell_type": "code",
   "execution_count": null,
   "metadata": {
    "collapsed": true
   },
   "outputs": [],
   "source": [
    "# check in date\n",
    "train[\"srch_ci\"] = pd.to_datetime(train[\"srch_ci\"], 'coerce')\n",
    "train['srch_ci'] = train['srch_ci'].dt.dayofyear\n",
    "\n",
    "test[\"srch_ci\"] = pd.to_datetime(test[\"srch_ci\"], 'coerce')\n",
    "test['srch_ci'] = test['srch_ci'].dt.dayofyear"
   ]
  },
  {
   "cell_type": "code",
   "execution_count": null,
   "metadata": {
    "collapsed": true
   },
   "outputs": [],
   "source": [
    "# check out date\n",
    "train[\"srch_co\"] = pd.to_datetime(train[\"srch_co\"], 'coerce')\n",
    "train['srch_co'] = train['srch_co'].dt.dayofyear\n",
    "\n",
    "test[\"srch_co\"] = pd.to_datetime(test[\"srch_co\"], 'coerce')\n",
    "test['srch_co'] = test['srch_co'].dt.dayofyear"
   ]
  },
  {
   "cell_type": "code",
   "execution_count": null,
   "metadata": {
    "collapsed": true
   },
   "outputs": [],
   "source": [
    "# stay length\n",
    "train['stay_length'] = train['srch_co'] - train['srch_ci']\n",
    "\n",
    "test['stay_length'] = test['srch_co'] - test['srch_ci']"
   ]
  },
  {
   "cell_type": "code",
   "execution_count": null,
   "metadata": {
    "collapsed": true
   },
   "outputs": [],
   "source": [
    "# heat\n",
    "train['ci_heat'] = 0\n",
    "train['co_heat'] = 0\n",
    "\n",
    "test['ci_heat'] = 0\n",
    "test['co_heat'] = 0"
   ]
  },
  {
   "cell_type": "code",
   "execution_count": null,
   "metadata": {
    "collapsed": false
   },
   "outputs": [],
   "source": [
    "# heat fill in \n",
    "print str(datetime.now().time())\n",
    "for i in range(train.shape[0]):\n",
    "   \n",
    "    if i % 100000 == 0:\n",
    "        print('Read {} lines...'.format(i) + str(datetime.now().time()))\n",
    "        \n",
    "    try:\n",
    "        hotel_country = train.iloc[i, 21]\n",
    "        hotel_market = train.iloc[i, 22]\n",
    "        srch_destination_id = train.iloc[i, 16]\n",
    "        id = (str(hotel_country), str(hotel_market), str(srch_destination_id))\n",
    "        train.iloc[i, 27] = checkInReady[id][train.iloc[i, 11]]\n",
    "        train.iloc[i, 28] = checkOutReady[id][train.iloc[i, 12]]\n",
    "    except:\n",
    "        continue  \n",
    " \n",
    "print str(datetime.now().time())"
   ]
  },
  {
   "cell_type": "code",
   "execution_count": null,
   "metadata": {
    "collapsed": false
   },
   "outputs": [],
   "source": [
    "# heat fill in \n",
    "print str(datetime.now().time())\n",
    "for i in range(test.shape[0]):\n",
    "   \n",
    "    if i % 100000 == 0:\n",
    "        print('Read {} lines...'.format(i) + str(datetime.now().time()))\n",
    "        \n",
    "    try:\n",
    "        hotel_country = test.iloc[i, 21]\n",
    "        hotel_market = test.iloc[i, 22]\n",
    "        srch_destination_id = test.iloc[i, 16]\n",
    "        id = (str(hotel_country), str(hotel_market), str(srch_destination_id))\n",
    "        pIn = checkInDensity[id]\n",
    "        pOut = checkInDensity[id]\n",
    "        test.iloc[i, 27] = pIn(test.iloc[i, 11])\n",
    "        test.iloc[i, 28] = pOut(test.iloc[i, 12])\n",
    "    except:\n",
    "        continue  \n",
    " \n",
    "print str(datetime.now().time())"
   ]
  }
 ],
 "metadata": {
  "kernelspec": {
   "display_name": "Python 2",
   "language": "python",
   "name": "python2"
  },
  "language_info": {
   "codemirror_mode": {
    "name": "ipython",
    "version": 2
   },
   "file_extension": ".py",
   "mimetype": "text/x-python",
   "name": "python",
   "nbconvert_exporter": "python",
   "pygments_lexer": "ipython2",
   "version": "2.7.11"
  }
 },
 "nbformat": 4,
 "nbformat_minor": 0
}
