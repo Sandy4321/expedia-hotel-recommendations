{
 "cells": [
  {
   "cell_type": "code",
   "execution_count": null,
   "metadata": {
    "collapsed": false
   },
   "outputs": [],
   "source": [
    "# Qiwei Li\n",
    "# https://www.linkedin.com/in/liqiwei\n",
    "%matplotlib inline\n",
    "\n",
    "from datetime import datetime\n",
    "from collections import defaultdict\n",
    "import pickle\n",
    "import numpy as np\n",
    "import matplotlib.pyplot as plt\n",
    "import pandas as pd\n",
    "import timeit\n",
    "from sys import stdout"
   ]
  },
  {
   "cell_type": "code",
   "execution_count": null,
   "metadata": {
    "collapsed": false
   },
   "outputs": [],
   "source": [
    "checkInDensityByHotelMarket = pickle.load(open(\"data/checkInDensityByHotelMarket.p\", \"rb\"))\n",
    "checkOutDensityByHotelMarket = pickle.load(open(\"data/checkOutDensityByHotelMarket.p\", \"rb\"))\n",
    "trainDataFrameRowByDestId = pickle.load(open(\"data/trainDataFrameRowByDestId.p\", \"rb\"))\n",
    "testDataFrameRowByDestId = pickle.load(open(\"data/trainDataFrameRowByDestId.p\", \"rb\"))"
   ]
  },
  {
   "cell_type": "code",
   "execution_count": null,
   "metadata": {
    "collapsed": false
   },
   "outputs": [],
   "source": [
    "trainDataFrameByDestId = dict()\n",
    "testDataFrameByDestId = dict()\n",
    "trainFillCounter = dict()\n",
    "testFillCounter = dict()"
   ]
  },
  {
   "cell_type": "code",
   "execution_count": null,
   "metadata": {
    "collapsed": false
   },
   "outputs": [],
   "source": [
    "colNames = ('hour','dow','posa','dist','mobile','package','channel','ci','co',\n",
    "            'adults','children','room','stay','type','booking','cluster')\n",
    "\n",
    "print('Preallocating space ... ' + str(datetime.now().time()))\n",
    "\n",
    "for key, value in trainDataFrameRowByDestId.iteritems():\n",
    "    df = pd.DataFrame(index=np.arange(0, value), columns=colNames)\n",
    "    trainDataFrameByDestId[key] = df\n",
    "    trainFillCounter[key] = 0\n",
    "\n",
    "print('Done ... ' + str(datetime.now().time()))"
   ]
  },
  {
   "cell_type": "code",
   "execution_count": null,
   "metadata": {
    "collapsed": false
   },
   "outputs": [],
   "source": [
    "print('Opening train ... ' + str(datetime.now().time()))\n",
    "f = open(\"data/train.csv\", \"r\")\n",
    "f.readline()\n",
    "total = 0\n",
    "\n",
    "while 1:\n",
    "    line = f.readline().strip()\n",
    "    total += 1\n",
    "        \n",
    "    stdout.write(\"\\r%d\" % total)\n",
    "    stdout.flush()\n",
    "    \n",
    "    if line == '':\n",
    "         break\n",
    "            \n",
    "    line = f.readline().strip()\n",
    "    arr = line.split(\",\")\n",
    "    \n",
    "    if arr[16] == '' or arr[21] == '' or arr[22] == '':\n",
    "        continue\n",
    "        \n",
    "    srch_destination_id = arr[16]\n",
    "    hotel_country = arr[21]\n",
    "    hotel_market = arr[22]\n",
    "    \n",
    "    try:\n",
    "        search_time_DT = datetime.strptime(arr[0], '%Y-%m-%d %H:%M:%S')\n",
    "        arr[0] = search_time_DT.hour\n",
    "        arr[1] = search_time_DT.weekday()\n",
    "\n",
    "        checkInDateDT = datetime.strptime(arr[11], \"%Y-%m-%d\")\n",
    "        checkOutDateDT = datetime.strptime(arr[12], \"%Y-%m-%d\")\n",
    "        arr[11] = checkInDateDT.timetuple().tm_yday\n",
    "        arr[12] = checkOutDateDT.timetuple().tm_yday\n",
    "    \n",
    "        arr[16] = arr[12] - arr[11]\n",
    "    \n",
    "        arr[11] = checkInDensityByHotelMarket[hotel_country, hotel_market](arr[11])\n",
    "        arr[12] = checkOutDensityByHotelMarket[hotel_country, hotel_market](arr[12])\n",
    "    except:\n",
    "        continue\n",
    "        \n",
    "    useless = [22,21,20,19,7,5,4,3]\n",
    "    for i in useless:\n",
    "        del arr[i]\n",
    "    \n",
    "    current = trainFillCounter[(hotel_market, srch_destination_id)]\n",
    "    trainDataFrameByDestId[(hotel_market, srch_destination_id)].loc[current,] = arr\n",
    "    trainFillCounter[(hotel_market, srch_destination_id)] += 1\n",
    "\n",
    "print('Closing train ... ' + str(datetime.now().time()))\n",
    "f.close()"
   ]
  }
 ],
 "metadata": {
  "kernelspec": {
   "display_name": "Python 2",
   "language": "python",
   "name": "python2"
  },
  "language_info": {
   "codemirror_mode": {
    "name": "ipython",
    "version": 2
   },
   "file_extension": ".py",
   "mimetype": "text/x-python",
   "name": "python",
   "nbconvert_exporter": "python",
   "pygments_lexer": "ipython2",
   "version": "2.7.11"
  }
 },
 "nbformat": 4,
 "nbformat_minor": 0
}
