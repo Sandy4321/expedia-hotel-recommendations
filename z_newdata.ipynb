{
 "cells": [
  {
   "cell_type": "code",
   "execution_count": 1,
   "metadata": {
    "collapsed": true
   },
   "outputs": [],
   "source": [
    "# Qiwei Li\n",
    "# https://www.linkedin.com/in/liqiwei\n",
    "%matplotlib inline\n",
    "\n",
    "from datetime import datetime\n",
    "from collections import defaultdict\n",
    "import pickle\n",
    "import numpy as np\n",
    "import pandas as pd"
   ]
  },
  {
   "cell_type": "code",
   "execution_count": 2,
   "metadata": {
    "collapsed": false
   },
   "outputs": [
    {
     "data": {
      "text/plain": [
       "[('50', '628', '8250'),\n",
       " ('50', '675', '8267'),\n",
       " ('8', '110', '8791'),\n",
       " ('70', '19', '8253'),\n",
       " ('50', '682', '8268'),\n",
       " ('204', '27', '8745'),\n",
       " ('50', '628', '12206'),\n",
       " ('50', '1230', '8279'),\n",
       " ('50', '701', '8260'),\n",
       " ('163', '1503', '11439')]"
      ]
     },
     "execution_count": 2,
     "metadata": {},
     "output_type": "execute_result"
    }
   ],
   "source": [
    "# only do the top 10\n",
    "nTop = 10\n",
    "sorted_top = pickle.load(open(\"data/sorted_top.p\", \"rb\"))\n",
    "id = []\n",
    "for i in range(10):\n",
    "    id.append((sorted_top[i])[0])\n",
    "\n",
    "id"
   ]
  },
  {
   "cell_type": "code",
   "execution_count": 3,
   "metadata": {
    "collapsed": true
   },
   "outputs": [],
   "source": [
    "newTrainRows = []\n",
    "newTestRows = []\n",
    "append_1 = newTrainRows.append\n",
    "append_2 = newTestRows.append"
   ]
  },
  {
   "cell_type": "code",
   "execution_count": 4,
   "metadata": {
    "collapsed": false
   },
   "outputs": [
    {
     "name": "stdout",
     "output_type": "stream",
     "text": [
      "Opening train...\n",
      "Read 0 lines...\n",
      "Read 5000000 lines...\n",
      "Read 10000000 lines...\n",
      "Read 15000000 lines...\n",
      "Read 20000000 lines...\n",
      "Read 25000000 lines...\n",
      "Read 30000000 lines...\n",
      "Read 35000000 lines...\n",
      "Closing train...\n"
     ]
    }
   ],
   "source": [
    "print('Opening train...')\n",
    "f = open(\"data/train.csv\", \"r\")\n",
    "f.readline()\n",
    "total = -1\n",
    "\n",
    "while 1:\n",
    "    line = f.readline().strip()\n",
    "    total += 1\n",
    "        \n",
    "    if total % 5000000 == 0:\n",
    "        print('Read {} lines...'.format(total))\n",
    "    if line == '':\n",
    "         break\n",
    "\n",
    "    arr = line.split(\",\")\n",
    "    hotel_country = arr[21]\n",
    "    hotel_market = arr[22]\n",
    "    srch_destination_id = arr[16]\n",
    "    book_year = arr[0][:4]\n",
    "    is_booking = arr[18]\n",
    "        \n",
    "    thisKey = (hotel_country, hotel_market, srch_destination_id)\n",
    "    if any(thisKey == s for s in id):\n",
    "        if book_year == '2013':\n",
    "            append_1(total)\n",
    "        if book_year == '2014' and is_booking =='1':\n",
    "            append_2(total)\n",
    "    \n",
    "print('Closing train...')\n",
    "f.close()"
   ]
  },
  {
   "cell_type": "code",
   "execution_count": 5,
   "metadata": {
    "collapsed": false
   },
   "outputs": [
    {
     "data": {
      "text/plain": [
       "1663976"
      ]
     },
     "execution_count": 5,
     "metadata": {},
     "output_type": "execute_result"
    }
   ],
   "source": [
    "len(newTrainRows)"
   ]
  },
  {
   "cell_type": "code",
   "execution_count": 6,
   "metadata": {
    "collapsed": false
   },
   "outputs": [
    {
     "data": {
      "text/plain": [
       "205976"
      ]
     },
     "execution_count": 6,
     "metadata": {},
     "output_type": "execute_result"
    }
   ],
   "source": [
    "len(newTestRows)"
   ]
  },
  {
   "cell_type": "code",
   "execution_count": 10,
   "metadata": {
    "collapsed": false
   },
   "outputs": [],
   "source": [
    "train = pd.read_csv(\"data/train.csv\")"
   ]
  },
  {
   "cell_type": "code",
   "execution_count": 12,
   "metadata": {
    "collapsed": false
   },
   "outputs": [],
   "source": [
    "newTrain = train.loc[newTrainRows, ]\n",
    "newTest = train.loc[newTestRows, ]"
   ]
  },
  {
   "cell_type": "code",
   "execution_count": 13,
   "metadata": {
    "collapsed": true
   },
   "outputs": [],
   "source": [
    "newTrain.to_csv('data/newTrain.csv', index=False)\n",
    "newTest.to_csv('data/newTest.csv', index=False)"
   ]
  }
 ],
 "metadata": {
  "kernelspec": {
   "display_name": "Python 2",
   "language": "python",
   "name": "python2"
  },
  "language_info": {
   "codemirror_mode": {
    "name": "ipython",
    "version": 2
   },
   "file_extension": ".py",
   "mimetype": "text/x-python",
   "name": "python",
   "nbconvert_exporter": "python",
   "pygments_lexer": "ipython2",
   "version": "2.7.11"
  }
 },
 "nbformat": 4,
 "nbformat_minor": 0
}
